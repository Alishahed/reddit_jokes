{
 "cells": [
  {
   "cell_type": "markdown",
   "metadata": {},
   "source": [
    "# **Exploration of ~37200 Reddit r/jokes dataset.**\n",
    "Extracted and simplified from [Kaggle](https://www.kaggle.com/datasets/bwandowando/reddit-rjokes-dataset) dataset.\n",
    "I chose subset of columns that I was interested in my analysis.\n",
    "Here are the list of columns that I kept:\n",
    "- *thread_id*: unique id of the thread containing the joke (Object)\n",
    "- *thread_title*: title of the thread (Object) *sometimes this title contains start of the joke*\n",
    "- *thread_selftext*: Text of the thread which includes the joke (Object)\n",
    "- *thread_score*: This score between 0 and 1 (Object) *supposed to be Upvotes - downvotes but I can't see any negative values so still I don't know what is it.*\n",
    "- *thread_num_comments*: Number of comments in the thread (float64)\n",
    "- *thread_created_utc*: Time of the thread creation in UTC (Object)\n",
    "- *thread_upvote_ratio*: Ratio of upvotes to to total votes (float64)\n",
    "- *thread_over_18*: Whether the thread is over 18 or not (Object)\n"
   ]
  },
  {
   "cell_type": "code",
   "execution_count": 91,
   "metadata": {},
   "outputs": [
    {
     "name": "stdout",
     "output_type": "stream",
     "text": [
      "<class 'pandas.core.frame.DataFrame'>\n",
      "RangeIndex: 37222 entries, 0 to 37221\n",
      "Data columns (total 8 columns):\n",
      " #   Column               Non-Null Count  Dtype  \n",
      "---  ------               --------------  -----  \n",
      " 0   thread_id            37222 non-null  object \n",
      " 1   thread_title         37222 non-null  object \n",
      " 2   thread_selftext      37216 non-null  object \n",
      " 3   thread_score         37221 non-null  object \n",
      " 4   thread_num_comments  37221 non-null  float64\n",
      " 5   thread_created_utc   37221 non-null  object \n",
      " 6   thread_upvote_ratio  37220 non-null  float64\n",
      " 7   thread_over_18       37220 non-null  object \n",
      "dtypes: float64(2), object(6)\n",
      "memory usage: 2.3+ MB\n"
     ]
    }
   ],
   "source": [
    "import pandas as pd\n",
    "import matplotlib.pyplot as plt\n",
    "import datetime\n",
    "\n",
    "# pd cosmetics\n",
    "pd.set_option('display.max_colwidth', 3000)\n",
    "pd.set_option('display.max_rows', 3000)\n",
    "pd.set_option('display.max_columns', 3000)\n",
    "pd.set_option('display.width', 1000)\n",
    "\n",
    "\n",
    "# Three files are in the *data* folder\n",
    "# 1) reddit_jokes_slim.csv: All ~37200 jokes (clean and adult)\n",
    "# 2) reddit_jokes_slim_clean.csv : Only clean jokes\n",
    "# 3) reddit_jokes_slim_plus18.csv: only adult jokes\n",
    "df_jokes_slim = pd.read_csv('./data/reddit_jokes_slim.csv')\n",
    "df_jokes_slim.info()\n"
   ]
  },
  {
   "cell_type": "code",
   "execution_count": 92,
   "metadata": {},
   "outputs": [
    {
     "name": "stdout",
     "output_type": "stream",
     "text": [
      "<class 'pandas.core.frame.DataFrame'>\n",
      "RangeIndex: 37215 entries, 0 to 37214\n",
      "Data columns (total 9 columns):\n",
      " #   Column               Non-Null Count  Dtype              \n",
      "---  ------               --------------  -----              \n",
      " 0   index                37215 non-null  int64              \n",
      " 1   thread_id            37215 non-null  object             \n",
      " 2   thread_title         37215 non-null  object             \n",
      " 3   thread_selftext      37215 non-null  object             \n",
      " 4   thread_score         37215 non-null  float64            \n",
      " 5   thread_num_comments  37215 non-null  float64            \n",
      " 6   thread_created_utc   37215 non-null  datetime64[ns, UTC]\n",
      " 7   thread_upvote_ratio  37215 non-null  float64            \n",
      " 8   thread_over_18       37215 non-null  object             \n",
      "dtypes: datetime64[ns, UTC](1), float64(3), int64(1), object(4)\n",
      "memory usage: 2.6+ MB\n"
     ]
    }
   ],
   "source": [
    "# some columns have small number of empty cells. We can drop them as they are very small percentage of all rows.\n",
    "# thread_created_utc is string and I change it to timestamp\n",
    "# thread_score is string, I change it to float.\n",
    "df_jokes_slim.dropna(how='any',inplace=True)\n",
    "df_jokes_slim.reset_index(inplace=True)\n",
    "df_jokes_slim['thread_created_utc'] = pd.to_datetime(df_jokes_slim['thread_created_utc'], format='mixed', utc=True)\n",
    "df_jokes_slim['thread_score'] = df_jokes_slim['thread_score'].astype(float)\n",
    "df_jokes_slim.drop('index',axis=1)"
   ]
  },
  {
   "cell_type": "code",
   "execution_count": 103,
   "metadata": {},
   "outputs": [
    {
     "data": {
      "text/html": [
       "<div>\n",
       "<style scoped>\n",
       "    .dataframe tbody tr th:only-of-type {\n",
       "        vertical-align: middle;\n",
       "    }\n",
       "\n",
       "    .dataframe tbody tr th {\n",
       "        vertical-align: top;\n",
       "    }\n",
       "\n",
       "    .dataframe thead th {\n",
       "        text-align: right;\n",
       "    }\n",
       "</style>\n",
       "<table border=\"1\" class=\"dataframe\">\n",
       "  <thead>\n",
       "    <tr style=\"text-align: right;\">\n",
       "      <th></th>\n",
       "      <th>index</th>\n",
       "      <th>thread_id</th>\n",
       "      <th>thread_title</th>\n",
       "      <th>thread_selftext</th>\n",
       "      <th>thread_score</th>\n",
       "      <th>thread_num_comments</th>\n",
       "      <th>thread_created_utc</th>\n",
       "      <th>thread_upvote_ratio</th>\n",
       "      <th>thread_over_18</th>\n",
       "    </tr>\n",
       "  </thead>\n",
       "  <tbody>\n",
       "    <tr>\n",
       "      <th>0</th>\n",
       "      <td>0</td>\n",
       "      <td>164tcap</td>\n",
       "      <td>The Turks invented sex</td>\n",
       "      <td>and then the Greeks improved it by removing th...</td>\n",
       "      <td>1125.0</td>\n",
       "      <td>104.0</td>\n",
       "      <td>2023-08-29 20:25:52+00:00</td>\n",
       "      <td>0.87</td>\n",
       "      <td>True</td>\n",
       "    </tr>\n",
       "    <tr>\n",
       "      <th>1</th>\n",
       "      <td>1</td>\n",
       "      <td>164un9h</td>\n",
       "      <td>A guy goes into a store and tells the clerk, \"...</td>\n",
       "      <td>\\n\\nThe guy, clearly offended, says, “\"Well, y...</td>\n",
       "      <td>3507.0</td>\n",
       "      <td>564.0</td>\n",
       "      <td>2023-08-29 21:14:51+00:00</td>\n",
       "      <td>0.87</td>\n",
       "      <td>False</td>\n",
       "    </tr>\n",
       "    <tr>\n",
       "      <th>2</th>\n",
       "      <td>2</td>\n",
       "      <td>16533xo</td>\n",
       "      <td>A man seeks cover in a cabin from the winter s...</td>\n",
       "      <td>Very NSFW!\\n\\nAllright, so this is a story fro...</td>\n",
       "      <td>614.0</td>\n",
       "      <td>40.0</td>\n",
       "      <td>2023-08-30 03:07:13+00:00</td>\n",
       "      <td>0.92</td>\n",
       "      <td>True</td>\n",
       "    </tr>\n",
       "    <tr>\n",
       "      <th>3</th>\n",
       "      <td>3</td>\n",
       "      <td>1654dk9</td>\n",
       "      <td>A man comes home late from the bar</td>\n",
       "      <td>He knows his wife don't like it when he drinks...</td>\n",
       "      <td>433.0</td>\n",
       "      <td>16.0</td>\n",
       "      <td>2023-08-30 04:09:11+00:00</td>\n",
       "      <td>0.95</td>\n",
       "      <td>False</td>\n",
       "    </tr>\n",
       "    <tr>\n",
       "      <th>4</th>\n",
       "      <td>4</td>\n",
       "      <td>1655h6k</td>\n",
       "      <td>A man is sitting at a bar at closing time, com...</td>\n",
       "      <td>How is it I always get in trouble with my wife...</td>\n",
       "      <td>648.0</td>\n",
       "      <td>43.0</td>\n",
       "      <td>2023-08-30 05:07:24+00:00</td>\n",
       "      <td>0.94</td>\n",
       "      <td>False</td>\n",
       "    </tr>\n",
       "  </tbody>\n",
       "</table>\n",
       "</div>"
      ],
      "text/plain": [
       "   index thread_id                                       thread_title  \\\n",
       "0      0   164tcap                             The Turks invented sex   \n",
       "1      1   164un9h  A guy goes into a store and tells the clerk, \"...   \n",
       "2      2   16533xo  A man seeks cover in a cabin from the winter s...   \n",
       "3      3   1654dk9                 A man comes home late from the bar   \n",
       "4      4   1655h6k  A man is sitting at a bar at closing time, com...   \n",
       "\n",
       "                                     thread_selftext  thread_score  \\\n",
       "0  and then the Greeks improved it by removing th...        1125.0   \n",
       "1  \\n\\nThe guy, clearly offended, says, “\"Well, y...        3507.0   \n",
       "2  Very NSFW!\\n\\nAllright, so this is a story fro...         614.0   \n",
       "3  He knows his wife don't like it when he drinks...         433.0   \n",
       "4  How is it I always get in trouble with my wife...         648.0   \n",
       "\n",
       "   thread_num_comments        thread_created_utc  thread_upvote_ratio  \\\n",
       "0                104.0 2023-08-29 20:25:52+00:00                 0.87   \n",
       "1                564.0 2023-08-29 21:14:51+00:00                 0.87   \n",
       "2                 40.0 2023-08-30 03:07:13+00:00                 0.92   \n",
       "3                 16.0 2023-08-30 04:09:11+00:00                 0.95   \n",
       "4                 43.0 2023-08-30 05:07:24+00:00                 0.94   \n",
       "\n",
       "  thread_over_18  \n",
       "0           True  \n",
       "1          False  \n",
       "2           True  \n",
       "3          False  \n",
       "4          False  "
      ]
     },
     "execution_count": 103,
     "metadata": {},
     "output_type": "execute_result"
    }
   ],
   "source": [
    "df_jokes_slim.head(5)"
   ]
  },
  {
   "cell_type": "markdown",
   "metadata": {},
   "source": [
    "# Can we use Thread_score and thread_upvote_ratio as a measure of joke quality\n",
    "I don't know how reddit calculates the thread_score so to gain an insight into what thread_score represents, I calculate the correlation between thread_score, thread_upvote_ratio and thread_num_comments to see if there are any correlation between them."
   ]
  },
  {
   "cell_type": "code",
   "execution_count": 106,
   "metadata": {},
   "outputs": [
    {
     "name": "stdout",
     "output_type": "stream",
     "text": [
      "Correlation between thread_score and thread_num_comments: 0.7229783655802435\n",
      "Correlation between thread_score and thread_upvote_ratio: 0.19715549518702158\n"
     ]
    }
   ],
   "source": [
    "\n",
    "correlation1 = df_jokes_slim['thread_score'].corr(df_jokes_slim['thread_num_comments'])\n",
    "correlation2 = df_jokes_slim['thread_score'].corr(df_jokes_slim['thread_upvote_ratio'])\n",
    "\n",
    "print(\"Correlation between thread_score and thread_num_comments:\", correlation1)\n",
    "print(\"Correlation between thread_score and thread_upvote_ratio:\", correlation2)\n"
   ]
  },
  {
   "cell_type": "markdown",
   "metadata": {},
   "source": [
    "As you can see above, there is a weak correlation between thread_score and thread_upvote_ratio. However, there is a strong correlation between thread_score and thread_num_comments. This means that the number of comments is more important than the upvote ratio thread_score calculation. That makes complete sense from Reddit's perspective. Because, Reddit wants to discover the high engagement threads and naturally, number of comments has higher engagement value compare to up/down vote. However, that is not as useful for our purpose, which is try to study and measure the funniness of the jokes. Number of comments, and naturally the thread score, measures the engagement of the thread/jokes which can be as the result of many factors other than the quality of the joke. In summary, we can't use thread_score alone as a measure of funniness of the joke.\n",
    "Let's look at "
   ]
  },
  {
   "cell_type": "code",
   "execution_count": null,
   "metadata": {},
   "outputs": [],
   "source": []
  }
 ],
 "metadata": {
  "kernelspec": {
   "display_name": "ds_ve_39_DS",
   "language": "python",
   "name": "python3"
  },
  "language_info": {
   "codemirror_mode": {
    "name": "ipython",
    "version": 3
   },
   "file_extension": ".py",
   "mimetype": "text/x-python",
   "name": "python",
   "nbconvert_exporter": "python",
   "pygments_lexer": "ipython3",
   "version": "3.9.8"
  }
 },
 "nbformat": 4,
 "nbformat_minor": 2
}
