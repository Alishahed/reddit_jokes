{
 "cells": [
  {
   "cell_type": "markdown",
   "metadata": {},
   "source": [
    "# **Exploration of ~37200 Reddit r/jokes dataset.**\n",
    "Extracted and simplified from [Kaggle](https://www.kaggle.com/datasets/bwandowando/reddit-rjokes-dataset) dataset.\n",
    "I chose subset of columns that I was interested in my analysis.\n",
    "Here are the list of columns that I kept:\n",
    "- *thread_id*: unique id of the thread containing the joke (Object)\n",
    "- *thread_title*: title of the thread (Object) *sometimes this title contains start of the joke*\n",
    "- *thread_selftext*: Text of the thread which includes the joke (Object)\n",
    "- *thread_score*: This score between 0 and 1 (Object) *Upvotes - downvotes*\n",
    "- *thread_num_comments*: Number of comments in the thread (float64)\n",
    "- *thread_created_utc*: Time of the thread creation in UTC (Object)\n",
    "- *thread_upvote_ratio*: Ratio of upvotes to downvotes (float64)\n",
    "- *thread_over_18*: Whether the thread is over 18 or not (Object)\n"
   ]
  },
  {
   "cell_type": "code",
   "execution_count": 91,
   "metadata": {},
   "outputs": [
    {
     "name": "stdout",
     "output_type": "stream",
     "text": [
      "<class 'pandas.core.frame.DataFrame'>\n",
      "RangeIndex: 37222 entries, 0 to 37221\n",
      "Data columns (total 8 columns):\n",
      " #   Column               Non-Null Count  Dtype  \n",
      "---  ------               --------------  -----  \n",
      " 0   thread_id            37222 non-null  object \n",
      " 1   thread_title         37222 non-null  object \n",
      " 2   thread_selftext      37216 non-null  object \n",
      " 3   thread_score         37221 non-null  object \n",
      " 4   thread_num_comments  37221 non-null  float64\n",
      " 5   thread_created_utc   37221 non-null  object \n",
      " 6   thread_upvote_ratio  37220 non-null  float64\n",
      " 7   thread_over_18       37220 non-null  object \n",
      "dtypes: float64(2), object(6)\n",
      "memory usage: 2.3+ MB\n"
     ]
    }
   ],
   "source": [
    "import pandas as pd\n",
    "import matplotlib.pyplot as plt\n",
    "import datetime\n",
    "\n",
    "# pd cosmetics\n",
    "pd.set_option('display.max_colwidth', 3000)\n",
    "pd.set_option('display.max_rows', 3000)\n",
    "pd.set_option('display.max_columns', 3000)\n",
    "pd.set_option('display.width', 1000)\n",
    "\n",
    "\n",
    "# Three files are in the *data* folder\n",
    "# 1) reddit_jokes_slim.csv: All ~37200 jokes (clean and adult)\n",
    "# 2) reddit_jokes_slim_clean.csv : Only clean jokes\n",
    "# 3) reddit_jokes_slim_plus18.csv: only adult jokes\n",
    "df_jokes_slim = pd.read_csv('./data/reddit_jokes_slim.csv')\n",
    "df_jokes_slim.info()\n"
   ]
  },
  {
   "cell_type": "code",
   "execution_count": 92,
   "metadata": {},
   "outputs": [
    {
     "name": "stdout",
     "output_type": "stream",
     "text": [
      "<class 'pandas.core.frame.DataFrame'>\n",
      "RangeIndex: 37215 entries, 0 to 37214\n",
      "Data columns (total 9 columns):\n",
      " #   Column               Non-Null Count  Dtype              \n",
      "---  ------               --------------  -----              \n",
      " 0   index                37215 non-null  int64              \n",
      " 1   thread_id            37215 non-null  object             \n",
      " 2   thread_title         37215 non-null  object             \n",
      " 3   thread_selftext      37215 non-null  object             \n",
      " 4   thread_score         37215 non-null  float64            \n",
      " 5   thread_num_comments  37215 non-null  float64            \n",
      " 6   thread_created_utc   37215 non-null  datetime64[ns, UTC]\n",
      " 7   thread_upvote_ratio  37215 non-null  float64            \n",
      " 8   thread_over_18       37215 non-null  object             \n",
      "dtypes: datetime64[ns, UTC](1), float64(3), int64(1), object(4)\n",
      "memory usage: 2.6+ MB\n"
     ]
    }
   ],
   "source": [
    "# some columns have small number of empty cells. We can drop them as they are very small percentage of all rows.\n",
    "# thread_created_utc is string and I change it to timestamp\n",
    "# thread_score is string, I change it to float.\n",
    "df_jokes_slim.dropna(how='any',inplace=True)\n",
    "df_jokes_slim.reset_index(inplace=True)\n",
    "df_jokes_slim['thread_created_utc'] = pd.to_datetime(df_jokes_slim['thread_created_utc'], format='mixed', utc=True)\n",
    "df_jokes_slim['thread_score'] = df_jokes_slim['thread_score'].astype(float)\n",
    "df_jokes_slim.drop('index',axis=1)"
   ]
  },
  {
   "cell_type": "code",
   "execution_count": 99,
   "metadata": {},
   "outputs": [
    {
     "data": {
      "text/html": [
       "<div>\n",
       "<style scoped>\n",
       "    .dataframe tbody tr th:only-of-type {\n",
       "        vertical-align: middle;\n",
       "    }\n",
       "\n",
       "    .dataframe tbody tr th {\n",
       "        vertical-align: top;\n",
       "    }\n",
       "\n",
       "    .dataframe thead th {\n",
       "        text-align: right;\n",
       "    }\n",
       "</style>\n",
       "<table border=\"1\" class=\"dataframe\">\n",
       "  <thead>\n",
       "    <tr style=\"text-align: right;\">\n",
       "      <th></th>\n",
       "      <th>index</th>\n",
       "      <th>thread_score</th>\n",
       "      <th>thread_num_comments</th>\n",
       "      <th>thread_upvote_ratio</th>\n",
       "    </tr>\n",
       "  </thead>\n",
       "  <tbody>\n",
       "    <tr>\n",
       "      <th>count</th>\n",
       "      <td>37215.000000</td>\n",
       "      <td>37215.000000</td>\n",
       "      <td>37215.000000</td>\n",
       "      <td>37215.000000</td>\n",
       "    </tr>\n",
       "    <tr>\n",
       "      <th>mean</th>\n",
       "      <td>18610.802741</td>\n",
       "      <td>404.407013</td>\n",
       "      <td>22.674271</td>\n",
       "      <td>0.686012</td>\n",
       "    </tr>\n",
       "    <tr>\n",
       "      <th>std</th>\n",
       "      <td>10744.863794</td>\n",
       "      <td>1953.163110</td>\n",
       "      <td>99.501791</td>\n",
       "      <td>0.226151</td>\n",
       "    </tr>\n",
       "    <tr>\n",
       "      <th>min</th>\n",
       "      <td>0.000000</td>\n",
       "      <td>0.000000</td>\n",
       "      <td>0.000000</td>\n",
       "      <td>0.030000</td>\n",
       "    </tr>\n",
       "    <tr>\n",
       "      <th>25%</th>\n",
       "      <td>9306.500000</td>\n",
       "      <td>0.000000</td>\n",
       "      <td>2.000000</td>\n",
       "      <td>0.500000</td>\n",
       "    </tr>\n",
       "    <tr>\n",
       "      <th>50%</th>\n",
       "      <td>18611.000000</td>\n",
       "      <td>5.000000</td>\n",
       "      <td>4.000000</td>\n",
       "      <td>0.740000</td>\n",
       "    </tr>\n",
       "    <tr>\n",
       "      <th>75%</th>\n",
       "      <td>27914.500000</td>\n",
       "      <td>42.000000</td>\n",
       "      <td>9.000000</td>\n",
       "      <td>0.880000</td>\n",
       "    </tr>\n",
       "    <tr>\n",
       "      <th>max</th>\n",
       "      <td>37221.000000</td>\n",
       "      <td>53635.000000</td>\n",
       "      <td>8011.000000</td>\n",
       "      <td>1.000000</td>\n",
       "    </tr>\n",
       "  </tbody>\n",
       "</table>\n",
       "</div>"
      ],
      "text/plain": [
       "              index  thread_score  thread_num_comments  thread_upvote_ratio\n",
       "count  37215.000000  37215.000000         37215.000000         37215.000000\n",
       "mean   18610.802741    404.407013            22.674271             0.686012\n",
       "std    10744.863794   1953.163110            99.501791             0.226151\n",
       "min        0.000000      0.000000             0.000000             0.030000\n",
       "25%     9306.500000      0.000000             2.000000             0.500000\n",
       "50%    18611.000000      5.000000             4.000000             0.740000\n",
       "75%    27914.500000     42.000000             9.000000             0.880000\n",
       "max    37221.000000  53635.000000          8011.000000             1.000000"
      ]
     },
     "execution_count": 99,
     "metadata": {},
     "output_type": "execute_result"
    }
   ],
   "source": [
    "df_jokes_slim.describe()"
   ]
  },
  {
   "cell_type": "code",
   "execution_count": null,
   "metadata": {},
   "outputs": [],
   "source": [
    "404*"
   ]
  }
 ],
 "metadata": {
  "kernelspec": {
   "display_name": "ds_ve_39_DS",
   "language": "python",
   "name": "python3"
  },
  "language_info": {
   "codemirror_mode": {
    "name": "ipython",
    "version": 3
   },
   "file_extension": ".py",
   "mimetype": "text/x-python",
   "name": "python",
   "nbconvert_exporter": "python",
   "pygments_lexer": "ipython3",
   "version": "3.9.8"
  }
 },
 "nbformat": 4,
 "nbformat_minor": 2
}
