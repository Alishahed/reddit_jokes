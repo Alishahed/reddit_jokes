{
 "cells": [
  {
   "cell_type": "markdown",
   "metadata": {},
   "source": [
    "# **Exploration of ~37200 Reddit r/jokes dataset.**\n",
    "Extracted and simplified from [Kaggle](https://www.kaggle.com/datasets/bwandowando/reddit-rjokes-dataset) dataset.\n",
    "I chose subset of columns that I was interested in my analysis.\n",
    "Here are the list of columns that I kept:\n",
    "- *thread_id*: unique id of the thread containing the joke (Object)\n",
    "- *thread_title*: title of the thread (Object) *sometimes this title contains start of the joke*\n",
    "- *thread_selftext*: Text of the thread which includes the joke (Object)\n",
    "- *thread_score*: This score between 0 and 1 (Object) *I am not sure yet how it is calculated*\n",
    "- *thread_num_comments*: Number of comments in the thread (float64)\n",
    "- *thread_created_utc*: Time of the thread creation in UTC (Object)\n",
    "- *thread_upvote_ratio*: Ratio of upvotes to downvotes (float64)\n",
    "- *thread_over_18*: Whether the thread is over 18 or not (Object)\n"
   ]
  },
  {
   "cell_type": "code",
   "execution_count": 69,
   "metadata": {},
   "outputs": [
    {
     "name": "stdout",
     "output_type": "stream",
     "text": [
      "<class 'pandas.core.frame.DataFrame'>\n",
      "RangeIndex: 37222 entries, 0 to 37221\n",
      "Data columns (total 8 columns):\n",
      " #   Column               Non-Null Count  Dtype  \n",
      "---  ------               --------------  -----  \n",
      " 0   thread_id            37222 non-null  object \n",
      " 1   thread_title         37222 non-null  object \n",
      " 2   thread_selftext      37216 non-null  object \n",
      " 3   thread_score         37221 non-null  object \n",
      " 4   thread_num_comments  37221 non-null  float64\n",
      " 5   thread_created_utc   37221 non-null  object \n",
      " 6   thread_upvote_ratio  37220 non-null  float64\n",
      " 7   thread_over_18       37220 non-null  object \n",
      "dtypes: float64(2), object(6)\n",
      "memory usage: 2.3+ MB\n"
     ]
    }
   ],
   "source": [
    "import pandas as pd\n",
    "import matplotlib.pyplot as plt\n",
    "import datetime\n",
    "\n",
    "\n",
    "# Three files are in the *data* folder\n",
    "# 1) reddit_jokes_slim.csv: All ~37200 jokes (clean and adult)\n",
    "# 2) reddit_jokes_slim_clean.csv : Only clean jokes\n",
    "# 3) reddit_jokes_slim_plus18.csv: only adult jokes\n",
    "df_jokes_slim = pd.read_csv('./data/reddit_jokes_slim.csv')\n",
    "df_jokes_slim.info()\n"
   ]
  },
  {
   "cell_type": "code",
   "execution_count": 73,
   "metadata": {},
   "outputs": [
    {
     "name": "stdout",
     "output_type": "stream",
     "text": [
      "<class 'pandas.core.frame.DataFrame'>\n",
      "Index: 37215 entries, 164tcap to 10pzucr\n",
      "Data columns (total 8 columns):\n",
      " #   Column               Non-Null Count  Dtype              \n",
      "---  ------               --------------  -----              \n",
      " 0   index                37215 non-null  int64              \n",
      " 1   thread_title         37215 non-null  object             \n",
      " 2   thread_selftext      37215 non-null  object             \n",
      " 3   thread_score         37215 non-null  float64            \n",
      " 4   thread_num_comments  37215 non-null  float64            \n",
      " 5   thread_created_utc   37215 non-null  datetime64[ns, UTC]\n",
      " 6   thread_upvote_ratio  37215 non-null  float64            \n",
      " 7   thread_over_18       37215 non-null  object             \n",
      "dtypes: datetime64[ns, UTC](1), float64(3), int64(1), object(3)\n",
      "memory usage: 2.6+ MB\n"
     ]
    }
   ],
   "source": [
    "# some columns have small number of empty cells. We can drop them as they are very small percentage of all rows.\n",
    "# thread_created_utc is string and I change it to timestamp\n",
    "# thread_score is string, I change it to float.\n",
    "df_jokes_slim.dropna(how='any')\n",
    "df_jokes_slim.reset_index(inplace=True)\n",
    "\n",
    "df_jokes_slim['thread_created_utc'] = pd.to_datetime(df_jokes_slim['thread_created_utc'], format='mixed', utc=True)\n",
    "df_jokes_slim['thread_score'] = df_jokes_slim['thread_score'].astype(float)\n",
    "df_jokes_slim.set_index('thread_id',inplace=True)\n",
    "df_jokes_slim.info()"
   ]
  },
  {
   "cell_type": "code",
   "execution_count": 71,
   "metadata": {},
   "outputs": [
    {
     "data": {
      "text/html": [
       "<div>\n",
       "<style scoped>\n",
       "    .dataframe tbody tr th:only-of-type {\n",
       "        vertical-align: middle;\n",
       "    }\n",
       "\n",
       "    .dataframe tbody tr th {\n",
       "        vertical-align: top;\n",
       "    }\n",
       "\n",
       "    .dataframe thead th {\n",
       "        text-align: right;\n",
       "    }\n",
       "</style>\n",
       "<table border=\"1\" class=\"dataframe\">\n",
       "  <thead>\n",
       "    <tr style=\"text-align: right;\">\n",
       "      <th></th>\n",
       "      <th>index</th>\n",
       "      <th>thread_title</th>\n",
       "      <th>thread_selftext</th>\n",
       "      <th>thread_score</th>\n",
       "      <th>thread_num_comments</th>\n",
       "      <th>thread_created_utc</th>\n",
       "      <th>thread_upvote_ratio</th>\n",
       "      <th>thread_over_18</th>\n",
       "    </tr>\n",
       "    <tr>\n",
       "      <th>thread_id</th>\n",
       "      <th></th>\n",
       "      <th></th>\n",
       "      <th></th>\n",
       "      <th></th>\n",
       "      <th></th>\n",
       "      <th></th>\n",
       "      <th></th>\n",
       "      <th></th>\n",
       "    </tr>\n",
       "  </thead>\n",
       "  <tbody>\n",
       "    <tr>\n",
       "      <th>164tcap</th>\n",
       "      <td>0</td>\n",
       "      <td>The Turks invented sex</td>\n",
       "      <td>and then the Greeks improved it by removing th...</td>\n",
       "      <td>1125.0</td>\n",
       "      <td>104.0</td>\n",
       "      <td>2023-08-29 20:25:52+00:00</td>\n",
       "      <td>0.87</td>\n",
       "      <td>True</td>\n",
       "    </tr>\n",
       "    <tr>\n",
       "      <th>164un9h</th>\n",
       "      <td>1</td>\n",
       "      <td>A guy goes into a store and tells the clerk, \"...</td>\n",
       "      <td>\\n\\nThe guy, clearly offended, says, “\"Well, y...</td>\n",
       "      <td>3507.0</td>\n",
       "      <td>564.0</td>\n",
       "      <td>2023-08-29 21:14:51+00:00</td>\n",
       "      <td>0.87</td>\n",
       "      <td>False</td>\n",
       "    </tr>\n",
       "    <tr>\n",
       "      <th>16533xo</th>\n",
       "      <td>2</td>\n",
       "      <td>A man seeks cover in a cabin from the winter s...</td>\n",
       "      <td>Very NSFW!\\n\\nAllright, so this is a story fro...</td>\n",
       "      <td>614.0</td>\n",
       "      <td>40.0</td>\n",
       "      <td>2023-08-30 03:07:13+00:00</td>\n",
       "      <td>0.92</td>\n",
       "      <td>True</td>\n",
       "    </tr>\n",
       "    <tr>\n",
       "      <th>1654dk9</th>\n",
       "      <td>3</td>\n",
       "      <td>A man comes home late from the bar</td>\n",
       "      <td>He knows his wife don't like it when he drinks...</td>\n",
       "      <td>433.0</td>\n",
       "      <td>16.0</td>\n",
       "      <td>2023-08-30 04:09:11+00:00</td>\n",
       "      <td>0.95</td>\n",
       "      <td>False</td>\n",
       "    </tr>\n",
       "    <tr>\n",
       "      <th>1655h6k</th>\n",
       "      <td>4</td>\n",
       "      <td>A man is sitting at a bar at closing time, com...</td>\n",
       "      <td>How is it I always get in trouble with my wife...</td>\n",
       "      <td>648.0</td>\n",
       "      <td>43.0</td>\n",
       "      <td>2023-08-30 05:07:24+00:00</td>\n",
       "      <td>0.94</td>\n",
       "      <td>False</td>\n",
       "    </tr>\n",
       "  </tbody>\n",
       "</table>\n",
       "</div>"
      ],
      "text/plain": [
       "           index                                       thread_title  \\\n",
       "thread_id                                                             \n",
       "164tcap        0                             The Turks invented sex   \n",
       "164un9h        1  A guy goes into a store and tells the clerk, \"...   \n",
       "16533xo        2  A man seeks cover in a cabin from the winter s...   \n",
       "1654dk9        3                 A man comes home late from the bar   \n",
       "1655h6k        4  A man is sitting at a bar at closing time, com...   \n",
       "\n",
       "                                             thread_selftext  thread_score  \\\n",
       "thread_id                                                                    \n",
       "164tcap    and then the Greeks improved it by removing th...        1125.0   \n",
       "164un9h    \\n\\nThe guy, clearly offended, says, “\"Well, y...        3507.0   \n",
       "16533xo    Very NSFW!\\n\\nAllright, so this is a story fro...         614.0   \n",
       "1654dk9    He knows his wife don't like it when he drinks...         433.0   \n",
       "1655h6k    How is it I always get in trouble with my wife...         648.0   \n",
       "\n",
       "           thread_num_comments        thread_created_utc  thread_upvote_ratio  \\\n",
       "thread_id                                                                       \n",
       "164tcap                  104.0 2023-08-29 20:25:52+00:00                 0.87   \n",
       "164un9h                  564.0 2023-08-29 21:14:51+00:00                 0.87   \n",
       "16533xo                   40.0 2023-08-30 03:07:13+00:00                 0.92   \n",
       "1654dk9                   16.0 2023-08-30 04:09:11+00:00                 0.95   \n",
       "1655h6k                   43.0 2023-08-30 05:07:24+00:00                 0.94   \n",
       "\n",
       "          thread_over_18  \n",
       "thread_id                 \n",
       "164tcap             True  \n",
       "164un9h            False  \n",
       "16533xo             True  \n",
       "1654dk9            False  \n",
       "1655h6k            False  "
      ]
     },
     "execution_count": 71,
     "metadata": {},
     "output_type": "execute_result"
    }
   ],
   "source": [
    "df_jokes_slim.head()\n"
   ]
  },
  {
   "cell_type": "code",
   "execution_count": 72,
   "metadata": {},
   "outputs": [
    {
     "data": {
      "text/plain": [
       "thread_id\n",
       "164tcap    1\n",
       "164un9h    1\n",
       "16533xo    2\n",
       "1654dk9    2\n",
       "1655h6k    2\n",
       "          ..\n",
       "10pworf    1\n",
       "10py2jx    1\n",
       "10py87c    1\n",
       "10pynwm    1\n",
       "10pzucr    1\n",
       "Name: thread_created_utc, Length: 37215, dtype: int32"
      ]
     },
     "execution_count": 72,
     "metadata": {},
     "output_type": "execute_result"
    }
   ],
   "source": [
    "df_jokes_slim.drop('index', axis=1, inplace=True)\n",
    "df_jokes_slim.set_index('thread_id', inplace=True)\n",
    "df_jokes_slim.info()\n"
   ]
  },
  {
   "cell_type": "code",
   "execution_count": null,
   "metadata": {},
   "outputs": [],
   "source": []
  }
 ],
 "metadata": {
  "kernelspec": {
   "display_name": "ds_ve_39_DS",
   "language": "python",
   "name": "python3"
  },
  "language_info": {
   "codemirror_mode": {
    "name": "ipython",
    "version": 3
   },
   "file_extension": ".py",
   "mimetype": "text/x-python",
   "name": "python",
   "nbconvert_exporter": "python",
   "pygments_lexer": "ipython3",
   "version": "3.9.8"
  }
 },
 "nbformat": 4,
 "nbformat_minor": 2
}
